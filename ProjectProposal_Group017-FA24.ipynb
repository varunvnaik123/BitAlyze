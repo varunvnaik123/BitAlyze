{
 "cells": [
  {
   "cell_type": "markdown",
   "metadata": {},
   "source": [
    "# COGS 108 - Project Proposal"
   ]
  },
  {
   "cell_type": "markdown",
   "metadata": {},
   "source": [
    "# Names\n",
    "\n",
    "\n",
    "- Parv Chordiya\n",
    "- Vivek Rane\n",
    "- Sonakshi Mohanty\n",
    "- Rahul Bulsara\n",
    "- Varun Naik\n"
   ]
  },
  {
   "cell_type": "markdown",
   "metadata": {},
   "source": [
    "# Research Question"
   ]
  },
  {
   "cell_type": "markdown",
   "metadata": {},
   "source": [
    "Is there a measurable correlation between specific social media sentiment indicators on platforms like X (formerly Twitter) and Reddit, and key Bitcoin price metrics such as price volatility, closing price, and trading volume within defined time frames?\n",
    "\n",
    "\n"
   ]
  },
  {
   "cell_type": "markdown",
   "metadata": {},
   "source": [
    "## Background and Prior Work"
   ]
  },
  {
   "cell_type": "markdown",
   "metadata": {},
   "source": [
    "\n",
    "In recent years, social media has changed the way information spreads, and it’s even had a big impact on financial markets. This is especially true for the cryptocurrency market and Bitcoin in particular. Because Bitcoin is decentralized and its price is highly volatile, it’s more sensitive to public opinion and speculation. Platforms like Twitter and Reddit have become central spaces where people express their views about Bitcoin, often influencing its price. A famous example of this is how Elon Musk’s tweets can send Bitcoin prices soaring or dropping, showing just how much social media sentiment can drive market behavior[^1](\"#1\").\n",
    "\n",
    "Previous studies have looked into this connection between social media sentiment and Bitcoin prices, and they’ve uncovered some interesting patterns. One notable study used Twitter data to gauge “public mood” and see how it affects Bitcoin price volatility. They found that major price shifts often happened in response to swings in public sentiment on Twitter. By analyzing the positive and negative tones of tweets, this study showed a significant link between these sentiments and Bitcoin’s price changes, particularly when the market was very volatile[^2](\"#2\"). Another study looked at Reddit’s cryptocurrency discussions, analyzing how the amount and sentiment of posts impacted Bitcoin prices. They observed that sudden increases in positive or negative discussions were often followed by price changes, suggesting that social media sentiment can lead to short-term trading behavior that affects prices[^3](\"#3\").\n",
    "\n",
    "While a lot of research has been done on Bitcoin’s price volatility and market trends, combining social media sentiment analysis with Bitcoin price prediction is still a developing area. This project aims to build on what we know by using sentiment analysis to measure the real-time impact of Twitter and Reddit on Bitcoin prices, hoping to see if we can make accurate price predictions based on sentiment trends. By mixing sentiment analysis with time series modeling, this project seeks to deepen our understanding of the relationship between social media and cryptocurrency markets, adding to ongoing research on how online platforms influence financial markets.\n",
    "\n",
    "\n",
    "<a name=\"#1\"></a> Rani Molla(2021, June 14). When Elon Musk tweets, crypto prices move.https://www.vox.com/recode/2021/5/18/22441831/elon-musk-bitcoin-dogecoin-crypto-prices-tesla. \n",
    "\n",
    "<a name=\"#2\"></a> Abraham, J., Higdon, D., Nelson, J., & Ibarra, J. (2018). \"Cryptocurrency price prediction using tweet volumes and sentiment analysis.https://api.semanticscholar.org/CorpusID:52950647\n",
    "\n",
    "<a name=\"#3\"></a>Oliveira, N., Cortez, P., & Areal, N. (2017). The impact of microblogging data for stock market prediction: Using Twitter to predict returns, volatility, trading volume and survey sentiment indices. Expert Syst. Appl., 73, 125-144.https://doi.org/10.1016/j.im.2017.10.004. ^\n",
    "https://api.semanticscholar.org/CorpusID:21682466\n",
    "\n"
   ]
  },
  {
   "cell_type": "markdown",
   "metadata": {},
   "source": [
    "# Hypothesis\n"
   ]
  },
  {
   "cell_type": "markdown",
   "metadata": {},
   "source": [
    "We hypothesize that increases in positive social media sentiment (as measured by the proportion of positive mentions of Bitcoin on platforms such as X and Reddit) will lead to an increase in Bitcoin's closing price, trading volume, or volatility, while negative sentiment increases will be associated with a decline in these metrics. Sentiment will be categorized as positive, neutral, or negative, using predefined sentiment analysis tools and sentiment scoring algorithms.\n"
   ]
  },
  {
   "cell_type": "markdown",
   "metadata": {},
   "source": [
    "# Data"
   ]
  },
  {
   "cell_type": "markdown",
   "metadata": {},
   "source": [
    "We will collect two primary datasets:\n",
    "- Bitcoin Price Data: We will use publicly available historical data on Bitcoin prices, including variables such as closing price, trading volume, and price volatility. A suitable source for this is the Kaggle dataset \"Bitcoin Historical Data\" (https://www.kaggle.com/datasets/mczielinski/bitcoin-historical-data), which provides comprehensive price metrics over various time frames.\n",
    "- Social Media Sentiment Data: Sentiment data will be derived by scraping public posts related to Bitcoin on X and Reddit. Posts will be collected over a defined time frame corresponding to the Bitcoin price data. Sentiment will be categorized into positive, neutral, and negative using established sentiment analysis tools (e.g., VADER, TextBlob, or machine learning-based NLP methods). We will provide detailed documentation on data collection methods, preprocessing steps, and sentiment classification criteria.\n",
    "\n",
    "Ideal Data Description:\n",
    "- Variables: Bitcoin closing price, volatility, trading volume; sentiment score (positive/neutral/negative); total post volume on X and Reddit related to Bitcoin.\n",
    "- Data Size: Our ideal dataset will comprise several thousand data points to ensure statistically meaningful results.\n"
   ]
  },
  {
   "cell_type": "markdown",
   "metadata": {},
   "source": [
    "# Ethics & Privacy"
   ]
  },
  {
   "cell_type": "markdown",
   "metadata": {},
   "source": [
    "In our data science project, we prioritize ethics and privacy by using only open-source datasets that adhere to strict data usage policies, ensuring we respect data ownership and compliance with privacy regulations.\n",
    "\n",
    "Bitcoin data is publicly available and doesn’t raise any violations on privacy and ethics. Analyzing social media sentiment does raise some flags on the use of peoples opinions and posts to represent and train our sentiment model but all scraped data will come from public posts.\n",
    "\n",
    "Sentiment analysis does bring in potential biases, however, such as differing sentiment tones across regions and languages. We will explicitly address biases through techniques like normalization and careful data preprocessing.\n"
   ]
  },
  {
   "cell_type": "markdown",
   "metadata": {},
   "source": [
    "# Team Expectations "
   ]
  },
  {
   "cell_type": "markdown",
   "metadata": {},
   "source": [
    "\n",
    "- We will use iMessage to communicate. We will meet at least once a week. If a group member has a question and they put it in the groupchat, they should be able to get their question answered within one hour\n",
    "- Everyone is expected to contribute to the group tasks each week. Tasks will be delegated based on preference and everyone should have around an equal amount of work. \n",
    "- If someone is struggling with their work or unable to complete something, they should tell the rest of the group ASAP \n",
    "- Be blunt but polite if you want to express a disagreement or different opinion. It is important to have effective communication and be direct. \n",
    "- It is important to take everyone’s perspective into consideration and hear each other out during times of conflict. \n"
   ]
  },
  {
   "cell_type": "markdown",
   "metadata": {},
   "source": [
    "# Project Timeline Proposal"
   ]
  },
  {
   "cell_type": "markdown",
   "metadata": {},
   "source": [
    "Specify your team's specific project timeline. An example timeline has been provided. Changes the dates, times, names, and details to fit your group's plan.\n",
    "\n",
    "If you think you will need any special resources or training outside what we have covered in COGS 108 to solve your problem, then your proposal should state these clearly. For example, if you have selected a problem that involves implementing multiple neural networks, please state this so we can make sure you know what you’re doing and so we can point you to resources you will need to implement your project. Note that you are not required to use outside methods.\n",
    "\n",
    "\n",
    "\n",
    "| Meeting Date  | Meeting Time| Completed Before Meeting  | Discuss at Meeting |\n",
    "|---|---|---|---|\n",
    "| 10/30  |  1 PM | Read & Think about COGS 108 expectations; brainstorm topics/questions  | Determine best form of communication; Discuss and decide on final project topic; discuss hypothesis; begin background research | \n",
    "| 10/30  |  10 AM |  Do background research on topic | Discuss ideal dataset(s) and ethics; draft project proposal | \n",
    "| 10/30  | 10 AM  | Edit, finalize, and submit proposal; Search for datasets  | Discuss Wrangling and possible analytical approaches; Assign group members to lead each specific part   |\n",
    "| 11/18  | 6 PM  | Import & Wrangle Data; EDA | Review/Edit wrangling/EDA; Discuss Analysis Plan   |\n",
    "| 11/23  | 12 PM  | Finalize wrangling/EDA; Begin Analysis | Discuss/edit Analysis; Complete project check-in |\n",
    "| 12/10  | 12 PM  | Complete analysis; Draft results/conclusion/discussion| Discuss/edit full project |\n",
    "| 12/11  | Before 11:59 PM  | NA | Turn in Final Project & Group Project Surveys |"
   ]
  }
 ],
 "metadata": {
  "kernelspec": {
   "display_name": "Python 3 (ipykernel)",
   "language": "python",
   "name": "python3"
  },
  "language_info": {
   "codemirror_mode": {
    "name": "ipython",
    "version": 3
   },
   "file_extension": ".py",
   "mimetype": "text/x-python",
   "name": "python",
   "nbconvert_exporter": "python",
   "pygments_lexer": "ipython3",
   "version": "3.9.7"
  }
 },
 "nbformat": 4,
 "nbformat_minor": 2
}
